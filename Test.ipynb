{
 "cells": [
  {
   "cell_type": "code",
   "execution_count": 49,
   "metadata": {},
   "outputs": [
    {
     "data": {
      "text/plain": [
       "True"
      ]
     },
     "execution_count": 49,
     "metadata": {},
     "output_type": "execute_result"
    }
   ],
   "source": [
    "from api_authentication import *\n",
    "api = ApiAuthentication(\"bef6017966eb3a7883800d136b0e8de4\", \"a7dfa9a925d50c6b8cb226cd3405b2f3\")\n",
    "success: bool = api.test_credentials()\n",
    "api.test_credentials()"
   ]
  },
  {
   "cell_type": "code",
   "execution_count": 50,
   "metadata": {},
   "outputs": [
    {
     "name": "stdout",
     "output_type": "stream",
     "text": [
      "Collecting git+https://github.com/MartinThoma/mpu.git\n",
      "  Cloning https://github.com/MartinThoma/mpu.git to /private/var/folders/lj/sjlch28x01jfyxxkjxv4xl1h0000gn/T/pip-req-build-4rq4oany\n",
      "  Running command git clone --filter=blob:none --quiet https://github.com/MartinThoma/mpu.git /private/var/folders/lj/sjlch28x01jfyxxkjxv4xl1h0000gn/T/pip-req-build-4rq4oany\n",
      "  Resolved https://github.com/MartinThoma/mpu.git to commit b0a8029ca291002a5dcb477d410eff6818d39c58\n",
      "  Preparing metadata (setup.py) ... \u001b[?25ldone\n",
      "\u001b[?25h"
     ]
    }
   ],
   "source": [
    "# Martins Python Utilities (mpu) is a collection of utility functions and classes with no other dependencies.\n",
    "!pip install git+https://github.com/MartinThoma/mpu.git"
   ]
  },
  {
   "cell_type": "code",
   "execution_count": 54,
   "metadata": {},
   "outputs": [
    {
     "ename": "ModuleNotFoundError",
     "evalue": "No module named 'deutsche_bahn_api.station'; 'deutsche_bahn_api' is not a package",
     "output_type": "error",
     "traceback": [
      "\u001b[0;31m---------------------------------------------------------------------------\u001b[0m",
      "\u001b[0;31mModuleNotFoundError\u001b[0m                       Traceback (most recent call last)",
      "Cell \u001b[0;32mIn[54], line 1\u001b[0m\n\u001b[0;32m----> 1\u001b[0m \u001b[38;5;28;01mfrom\u001b[39;00m \u001b[38;5;21;01mstation_helper\u001b[39;00m \u001b[38;5;28;01mimport\u001b[39;00m \u001b[38;5;241m*\u001b[39m\n\u001b[1;32m      2\u001b[0m station_helper \u001b[38;5;241m=\u001b[39m StationHelper()\n\u001b[1;32m      3\u001b[0m found_stations \u001b[38;5;241m=\u001b[39m station_helper\u001b[38;5;241m.\u001b[39mfind_stations_by_lat_long(\u001b[38;5;241m47.996713\u001b[39m, \u001b[38;5;241m7.842174\u001b[39m, \u001b[38;5;241m10\u001b[39m)\n",
      "File \u001b[0;32m~/Downloads/deutsche-bahn-api-1.0.6/deutsche_bahn_api/station_helper.py:5\u001b[0m\n\u001b[1;32m      2\u001b[0m \u001b[38;5;28;01mimport\u001b[39;00m \u001b[38;5;21;01mpkgutil\u001b[39;00m\n\u001b[1;32m      3\u001b[0m \u001b[38;5;28;01mimport\u001b[39;00m \u001b[38;5;21;01mmpu\u001b[39;00m\n\u001b[0;32m----> 5\u001b[0m \u001b[38;5;28;01mfrom\u001b[39;00m \u001b[38;5;21;01mdeutsche_bahn_api\u001b[39;00m\u001b[38;5;21;01m.\u001b[39;00m\u001b[38;5;21;01mstation\u001b[39;00m \u001b[38;5;28;01mimport\u001b[39;00m Station\n\u001b[1;32m      8\u001b[0m \u001b[38;5;28;01mdef\u001b[39;00m \u001b[38;5;21mnormalize_lat_or_long_from_station\u001b[39m(station: Station) \u001b[38;5;241m-\u001b[39m\u001b[38;5;241m>\u001b[39m \u001b[38;5;28mdict\u001b[39m[\u001b[38;5;28mstr\u001b[39m, \u001b[38;5;28mfloat\u001b[39m]:\n\u001b[1;32m      9\u001b[0m     lat \u001b[38;5;241m=\u001b[39m station\u001b[38;5;241m.\u001b[39mBreite\u001b[38;5;241m.\u001b[39mreplace(\u001b[38;5;124m\"\u001b[39m\u001b[38;5;124m,\u001b[39m\u001b[38;5;124m\"\u001b[39m, \u001b[38;5;124m\"\u001b[39m\u001b[38;5;124m.\u001b[39m\u001b[38;5;124m\"\u001b[39m)\n",
      "\u001b[0;31mModuleNotFoundError\u001b[0m: No module named 'deutsche_bahn_api.station'; 'deutsche_bahn_api' is not a package"
     ]
    }
   ],
   "source": [
    "from station_helper import *\n",
    "station_helper = StationHelper()\n",
    "found_stations = station_helper.find_stations_by_lat_long(47.996713, 7.842174, 10)\n",
    "found_stations_by_name = station_helper.find_stations_by_name(\"Freiburg\")"
   ]
  },
  {
   "cell_type": "code",
   "execution_count": null,
   "metadata": {},
   "outputs": [],
   "source": []
  }
 ],
 "metadata": {
  "kernelspec": {
   "display_name": "Python 3",
   "language": "python",
   "name": "python3"
  },
  "language_info": {
   "codemirror_mode": {
    "name": "ipython",
    "version": 3
   },
   "file_extension": ".py",
   "mimetype": "text/x-python",
   "name": "python",
   "nbconvert_exporter": "python",
   "pygments_lexer": "ipython3",
   "version": "3.11.3"
  }
 },
 "nbformat": 4,
 "nbformat_minor": 2
}
